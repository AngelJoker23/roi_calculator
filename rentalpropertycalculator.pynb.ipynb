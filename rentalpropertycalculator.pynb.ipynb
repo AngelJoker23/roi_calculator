{
 "cells": [
  {
   "cell_type": "code",
   "execution_count": 1,
   "metadata": {},
   "outputs": [
    {
     "name": "stdout",
     "output_type": "stream",
     "text": [
      "Income: 1675\n",
      "Expenses: 2080\n",
      "Cashflow: -405\n",
      "Cash-on-Cash Return: -7.253731343283581\n"
     ]
    }
   ],
   "source": [
    "class RentalPropertyCalculator:\n",
    "    def __init__(self):\n",
    "        self.income = 0\n",
    "        self.expenses = 0\n",
    "        self.cashflow = 0\n",
    "        self.cash_on_cash_return = 0\n",
    "\n",
    "    def calculate_income(self, rental_income, laundry_income, storage_income, misc_income):\n",
    "        self.income = rental_income + laundry_income + storage_income + misc_income\n",
    "\n",
    "    def calculate_expenses(self, taxes, insurance, water_sewer, garbage, electric_gas, hoa_fee, lawn_snow,\n",
    "                           vacancy, repairs, capex, prop_mgmt, mortgage):\n",
    "        self.expenses = taxes + insurance + water_sewer + garbage + electric_gas + hoa_fee + lawn_snow + vacancy + \\\n",
    "                        repairs + capex + prop_mgmt + mortgage\n",
    "\n",
    "    def calculate_cashflow(self):\n",
    "        self.cashflow = self.income - self.expenses\n",
    "\n",
    "    def calculate_cash_on_cash_return(self, downpayment, closing_costs, rehab_budget, misc_other):\n",
    "        total_investment = downpayment + closing_costs + rehab_budget + misc_other\n",
    "        self.cash_on_cash_return = (self.cashflow * 12) / total_investment * 100\n",
    "\n",
    "\n",
    "# Example usage\n",
    "calculator = RentalPropertyCalculator()\n",
    "\n",
    "# Calculate income\n",
    "calculator.calculate_income(1500, 100, 50, 25)\n",
    "\n",
    "# Calculate expenses\n",
    "calculator.calculate_expenses(200, 100, 50, 30, 80, 50, 20, 100, 200, 100, 150, 1000)\n",
    "\n",
    "# Calculate cashflow\n",
    "calculator.calculate_cashflow()\n",
    "\n",
    "# Calculate cash-on-cash return\n",
    "calculator.calculate_cash_on_cash_return(50000, 5000, 10000, 2000)\n",
    "\n",
    "# Print the results\n",
    "print(\"Income:\", calculator.income)\n",
    "print(\"Expenses:\", calculator.expenses)\n",
    "print(\"Cashflow:\", calculator.cashflow)\n",
    "print(\"Cash-on-Cash Return:\", calculator.cash_on_cash_return)\n"
   ]
  }
 ],
 "metadata": {
  "kernelspec": {
   "display_name": "Python 3 (ipykernel)",
   "language": "python",
   "name": "python3"
  },
  "language_info": {
   "codemirror_mode": {
    "name": "ipython",
    "version": 3
   },
   "file_extension": ".py",
   "mimetype": "text/x-python",
   "name": "python",
   "nbconvert_exporter": "python",
   "pygments_lexer": "ipython3",
   "version": "3.10.9"
  }
 },
 "nbformat": 4,
 "nbformat_minor": 2
}
